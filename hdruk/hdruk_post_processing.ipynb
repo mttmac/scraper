{
 "cells": [
  {
   "cell_type": "code",
   "execution_count": 1,
   "metadata": {},
   "outputs": [],
   "source": [
    "import csv\n",
    "from pathlib import Path\n",
    "import pandas as pd"
   ]
  },
  {
   "cell_type": "code",
   "execution_count": 2,
   "metadata": {},
   "outputs": [],
   "source": [
    "DATA_DIR = Path.cwd() / \"hdruk_data\"\n",
    "\n",
    "data = {}\n",
    "for file in DATA_DIR.glob(\"*.json\"):\n",
    "    data[file.stem] = pd.read_json(file, dtype=\"string\")"
   ]
  },
  {
   "cell_type": "code",
   "execution_count": 3,
   "metadata": {},
   "outputs": [
    {
     "data": {
      "text/plain": [
       "(1001, 11)"
      ]
     },
     "execution_count": 3,
     "metadata": {},
     "output_type": "execute_result"
    }
   ],
   "source": [
    "df = data[\"phenotypes\"]\n",
    "df.shape"
   ]
  },
  {
   "cell_type": "code",
   "execution_count": 4,
   "metadata": {},
   "outputs": [],
   "source": [
    "df.to_csv(Path.cwd() / \"hdruk_phenotypes.csv\", index=False, quoting=csv.QUOTE_ALL)"
   ]
  },
  {
   "cell_type": "code",
   "execution_count": 5,
   "metadata": {},
   "outputs": [
    {
     "data": {
      "text/plain": [
       "(855, 19)"
      ]
     },
     "execution_count": 5,
     "metadata": {},
     "output_type": "execute_result"
    }
   ],
   "source": [
    "parts = []\n",
    "for ph in df.phenotype_id:\n",
    "    try:\n",
    "        parts.append(data[f\"phenotypes_{ph}_detail\"])\n",
    "    except KeyError:\n",
    "        continue\n",
    "\n",
    "details = pd.concat(parts, axis=0)\n",
    "details.shape"
   ]
  },
  {
   "cell_type": "code",
   "execution_count": 6,
   "metadata": {},
   "outputs": [],
   "source": [
    "details.to_csv(Path.cwd() / \"hdruk_phenotype_details.csv\", index=False, quoting=csv.QUOTE_ALL)"
   ]
  },
  {
   "cell_type": "code",
   "execution_count": 7,
   "metadata": {},
   "outputs": [
    {
     "data": {
      "text/plain": [
       "(114229, 10)"
      ]
     },
     "execution_count": 7,
     "metadata": {},
     "output_type": "execute_result"
    }
   ],
   "source": [
    "parts = []\n",
    "for ph in df.phenotype_id:\n",
    "    try:\n",
    "        parts.append(data[f\"phenotypes_{ph}_export_codes\"])\n",
    "    except KeyError:\n",
    "        continue\n",
    "\n",
    "codes = pd.concat(parts, axis=0)\n",
    "codes.shape"
   ]
  },
  {
   "cell_type": "code",
   "execution_count": 8,
   "metadata": {},
   "outputs": [
    {
     "data": {
      "text/html": [
       "<div>\n",
       "<style scoped>\n",
       "    .dataframe tbody tr th:only-of-type {\n",
       "        vertical-align: middle;\n",
       "    }\n",
       "\n",
       "    .dataframe tbody tr th {\n",
       "        vertical-align: top;\n",
       "    }\n",
       "\n",
       "    .dataframe thead th {\n",
       "        text-align: right;\n",
       "    }\n",
       "</style>\n",
       "<table border=\"1\" class=\"dataframe\">\n",
       "  <thead>\n",
       "    <tr style=\"text-align: right;\">\n",
       "      <th></th>\n",
       "      <th>code</th>\n",
       "      <th>description</th>\n",
       "      <th>code_attributes</th>\n",
       "      <th>coding_system</th>\n",
       "      <th>concept_id</th>\n",
       "      <th>concept_version_id</th>\n",
       "      <th>concept_name</th>\n",
       "      <th>phenotype_id</th>\n",
       "      <th>phenotype_version_id</th>\n",
       "      <th>phenotype_name</th>\n",
       "    </tr>\n",
       "  </thead>\n",
       "  <tbody>\n",
       "    <tr>\n",
       "      <th>0</th>\n",
       "      <td>1008541000000105</td>\n",
       "      <td>Coronavirus ribonucleic acid detection assay (...</td>\n",
       "      <td>{'type': '1'}</td>\n",
       "      <td>SNOMED  CT codes</td>\n",
       "      <td>C714</td>\n",
       "      <td>2567</td>\n",
       "      <td>COVID-19 infection - Primary Care</td>\n",
       "      <td>PH1</td>\n",
       "      <td>2</td>\n",
       "      <td>COVID-19 infection</td>\n",
       "    </tr>\n",
       "    <tr>\n",
       "      <th>1</th>\n",
       "      <td>1029481000000103</td>\n",
       "      <td>Coronavirus nucleic acid detection assay (obse...</td>\n",
       "      <td>{'type': '1'}</td>\n",
       "      <td>SNOMED  CT codes</td>\n",
       "      <td>C714</td>\n",
       "      <td>2567</td>\n",
       "      <td>COVID-19 infection - Primary Care</td>\n",
       "      <td>PH1</td>\n",
       "      <td>2</td>\n",
       "      <td>COVID-19 infection</td>\n",
       "    </tr>\n",
       "    <tr>\n",
       "      <th>2</th>\n",
       "      <td>120814005</td>\n",
       "      <td>Coronavirus antibody (substance)</td>\n",
       "      <td>{'type': '1'}</td>\n",
       "      <td>SNOMED  CT codes</td>\n",
       "      <td>C714</td>\n",
       "      <td>2567</td>\n",
       "      <td>COVID-19 infection - Primary Care</td>\n",
       "      <td>PH1</td>\n",
       "      <td>2</td>\n",
       "      <td>COVID-19 infection</td>\n",
       "    </tr>\n",
       "    <tr>\n",
       "      <th>3</th>\n",
       "      <td>1240391000000107</td>\n",
       "      <td>Antigen of severe acute respiratory syndrome c...</td>\n",
       "      <td>{'type': '1'}</td>\n",
       "      <td>SNOMED  CT codes</td>\n",
       "      <td>C714</td>\n",
       "      <td>2567</td>\n",
       "      <td>COVID-19 infection - Primary Care</td>\n",
       "      <td>PH1</td>\n",
       "      <td>2</td>\n",
       "      <td>COVID-19 infection</td>\n",
       "    </tr>\n",
       "    <tr>\n",
       "      <th>4</th>\n",
       "      <td>1240401000000105</td>\n",
       "      <td>Antibody to severe acute respiratory syndrome ...</td>\n",
       "      <td>{'type': '1'}</td>\n",
       "      <td>SNOMED  CT codes</td>\n",
       "      <td>C714</td>\n",
       "      <td>2567</td>\n",
       "      <td>COVID-19 infection - Primary Care</td>\n",
       "      <td>PH1</td>\n",
       "      <td>2</td>\n",
       "      <td>COVID-19 infection</td>\n",
       "    </tr>\n",
       "  </tbody>\n",
       "</table>\n",
       "</div>"
      ],
      "text/plain": [
       "               code                                        description  \\\n",
       "0  1008541000000105  Coronavirus ribonucleic acid detection assay (...   \n",
       "1  1029481000000103  Coronavirus nucleic acid detection assay (obse...   \n",
       "2         120814005                  Coronavirus antibody (substance)    \n",
       "3  1240391000000107  Antigen of severe acute respiratory syndrome c...   \n",
       "4  1240401000000105  Antibody to severe acute respiratory syndrome ...   \n",
       "\n",
       "  code_attributes     coding_system concept_id concept_version_id  \\\n",
       "0   {'type': '1'}  SNOMED  CT codes       C714               2567   \n",
       "1   {'type': '1'}  SNOMED  CT codes       C714               2567   \n",
       "2   {'type': '1'}  SNOMED  CT codes       C714               2567   \n",
       "3   {'type': '1'}  SNOMED  CT codes       C714               2567   \n",
       "4   {'type': '1'}  SNOMED  CT codes       C714               2567   \n",
       "\n",
       "                        concept_name phenotype_id phenotype_version_id  \\\n",
       "0  COVID-19 infection - Primary Care          PH1                    2   \n",
       "1  COVID-19 infection - Primary Care          PH1                    2   \n",
       "2  COVID-19 infection - Primary Care          PH1                    2   \n",
       "3  COVID-19 infection - Primary Care          PH1                    2   \n",
       "4  COVID-19 infection - Primary Care          PH1                    2   \n",
       "\n",
       "       phenotype_name  \n",
       "0  COVID-19 infection  \n",
       "1  COVID-19 infection  \n",
       "2  COVID-19 infection  \n",
       "3  COVID-19 infection  \n",
       "4  COVID-19 infection  "
      ]
     },
     "execution_count": 8,
     "metadata": {},
     "output_type": "execute_result"
    }
   ],
   "source": [
    "codes.head()"
   ]
  },
  {
   "cell_type": "code",
   "execution_count": 9,
   "metadata": {},
   "outputs": [
    {
     "data": {
      "text/plain": [
       "code                    string\n",
       "description             string\n",
       "code_attributes         string\n",
       "coding_system           string\n",
       "concept_id              string\n",
       "concept_version_id      string\n",
       "concept_name            string\n",
       "phenotype_id            string\n",
       "phenotype_version_id    string\n",
       "phenotype_name          string\n",
       "dtype: object"
      ]
     },
     "execution_count": 9,
     "metadata": {},
     "output_type": "execute_result"
    }
   ],
   "source": [
    "codes.dtypes"
   ]
  },
  {
   "cell_type": "code",
   "execution_count": 10,
   "metadata": {},
   "outputs": [],
   "source": [
    "codes.to_csv(Path.cwd() / \"hdruk_phenotype_codes.csv\", index=False, quoting=csv.QUOTE_ALL)"
   ]
  },
  {
   "cell_type": "code",
   "execution_count": null,
   "metadata": {},
   "outputs": [],
   "source": []
  }
 ],
 "metadata": {
  "kernelspec": {
   "display_name": "dev",
   "language": "python",
   "name": "python3"
  },
  "language_info": {
   "codemirror_mode": {
    "name": "ipython",
    "version": 3
   },
   "file_extension": ".py",
   "mimetype": "text/x-python",
   "name": "python",
   "nbconvert_exporter": "python",
   "pygments_lexer": "ipython3",
   "version": "3.10.4"
  },
  "orig_nbformat": 4,
  "vscode": {
   "interpreter": {
    "hash": "7f95a47953f72bf725374b0a0c4a3883b8faa0dd3a9d7972da78c590a3d0d261"
   }
  }
 },
 "nbformat": 4,
 "nbformat_minor": 2
}
